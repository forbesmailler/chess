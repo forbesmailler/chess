{
 "cells": [
  {
   "cell_type": "code",
   "execution_count": null,
   "metadata": {},
   "outputs": [
    {
     "name": "stdout",
     "output_type": "stream",
     "text": [
      "Invalid choice. Please type 'white' or 'black'.\n",
      "Invalid choice. Please type 'white' or 'black'.\n",
      "Invalid choice. Please type 'white' or 'black'.\n",
      "Invalid choice. Please type 'white' or 'black'.\n",
      "Invalid choice. Please type 'white' or 'black'.\n",
      "Invalid choice. Please type 'white' or 'black'.\n",
      "Invalid choice. Please type 'white' or 'black'.\n",
      "Invalid choice. Please type 'white' or 'black'.\n",
      "Invalid choice. Please type 'white' or 'black'.\n",
      "Invalid choice. Please type 'white' or 'black'.\n",
      "Invalid choice. Please type 'white' or 'black'.\n",
      "Invalid choice. Please type 'white' or 'black'.\n",
      "Invalid choice. Please type 'white' or 'black'.\n",
      "Invalid choice. Please type 'white' or 'black'.\n",
      "Invalid choice. Please type 'white' or 'black'.\n",
      "Invalid choice. Please type 'white' or 'black'.\n"
     ]
    }
   ],
   "source": [
    "from chess_game import ChessGame\n",
    "from chess_bot_nn import ChessBot\n",
    "\n",
    "game = ChessGame()\n",
    "bot = ChessBot(game, \"pkl/model.pkl\", \"pkl/scaler.pkl\")\n",
    "game.play(bot)"
   ]
  },
  {
   "cell_type": "code",
   "execution_count": null,
   "metadata": {},
   "outputs": [],
   "source": []
  }
 ],
 "metadata": {
  "kernelspec": {
   "display_name": "chess",
   "language": "python",
   "name": "python3"
  },
  "language_info": {
   "codemirror_mode": {
    "name": "ipython",
    "version": 3
   },
   "file_extension": ".py",
   "mimetype": "text/x-python",
   "name": "python",
   "nbconvert_exporter": "python",
   "pygments_lexer": "ipython3",
   "version": "3.13.1"
  }
 },
 "nbformat": 4,
 "nbformat_minor": 2
}
