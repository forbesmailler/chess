{
 "cells": [
  {
   "cell_type": "code",
   "execution_count": 1,
   "metadata": {},
   "outputs": [
    {
     "name": "stdout",
     "output_type": "stream",
     "text": [
      "You are playing as white. The bot plays as black.\n",
      "    a  b  c  d  e  f  g  h\n",
      "  +-------------------------+\n",
      "8 | r  n  b  q  k  b  n  r | 8\n",
      "7 | p  p  p  p  p  p  p  p | 7\n",
      "6 | .  .  .  .  .  .  .  . | 6\n",
      "5 | .  .  .  .  .  .  .  . | 5\n",
      "4 | .  .  .  .  .  .  .  . | 4\n",
      "3 | .  .  .  .  .  .  .  . | 3\n",
      "2 | P  P  P  P  P  P  P  P | 2\n",
      "1 | R  N  B  Q  K  B  N  R | 1\n",
      "  +-------------------------+\n",
      "    a  b  c  d  e  f  g  h\n",
      "    a  b  c  d  e  f  g  h\n",
      "  +-------------------------+\n",
      "8 | r  n  b  q  k  b  n  r | 8\n",
      "7 | p  p  p  p  p  p  p  p | 7\n",
      "6 | .  .  .  .  .  .  .  . | 6\n",
      "5 | .  .  .  .  .  .  .  . | 5\n",
      "4 | .  .  .  .  P  .  .  . | 4\n",
      "3 | .  .  .  .  .  .  .  . | 3\n",
      "2 | P  P  P  P  .  P  P  P | 2\n",
      "1 | R  N  B  Q  K  B  N  R | 1\n",
      "  +-------------------------+\n",
      "    a  b  c  d  e  f  g  h\n",
      "[DEBUG] black has 20 moves\n",
      "[DEBUG] Move (0, 1, 2, 0), eval=1.00\n",
      "[DEBUG] Move (0, 1, 2, 2), eval=1.00\n",
      "[DEBUG] Move (0, 6, 2, 5), eval=1.00\n",
      "[DEBUG] Move (0, 6, 2, 7), eval=0.97\n",
      "[DEBUG] Move (1, 0, 2, 0), eval=0.97\n",
      "[DEBUG] Move (1, 0, 3, 0), eval=1.00\n",
      "[DEBUG] Move (1, 1, 2, 1), eval=1.00\n",
      "[DEBUG] Move (1, 1, 3, 1), eval=1.00\n",
      "[DEBUG] Move (1, 2, 2, 2), eval=1.00\n",
      "[DEBUG] Move (1, 2, 3, 2), eval=1.00\n",
      "[DEBUG] Move (1, 3, 2, 3), eval=1.00\n",
      "[DEBUG] Move (1, 3, 3, 3), eval=1.00\n",
      "[DEBUG] Move (1, 4, 2, 4), eval=1.00\n",
      "[DEBUG] Move (1, 4, 3, 4), eval=1.00\n",
      "[DEBUG] Move (1, 5, 2, 5), eval=1.00\n",
      "[DEBUG] Move (1, 5, 3, 5), eval=1.00\n",
      "[DEBUG] Move (1, 6, 2, 6), eval=1.00\n",
      "[DEBUG] Move (1, 6, 3, 6), eval=1.00\n",
      "[DEBUG] Move (1, 7, 2, 7), eval=1.00\n",
      "[DEBUG] Move (1, 7, 3, 7), eval=1.00\n",
      "Bot plays: c7 c5\n",
      "    a  b  c  d  e  f  g  h\n",
      "  +-------------------------+\n",
      "8 | r  .  b  q  k  b  n  r | 8\n",
      "7 | p  p  p  p  p  p  p  p | 7\n",
      "6 | n  .  .  .  .  .  .  . | 6\n",
      "5 | .  .  .  .  .  .  .  . | 5\n",
      "4 | .  .  .  .  P  .  .  . | 4\n",
      "3 | .  .  .  .  .  .  .  . | 3\n",
      "2 | P  P  P  P  .  P  P  P | 2\n",
      "1 | R  N  B  Q  K  B  N  R | 1\n",
      "  +-------------------------+\n",
      "    a  b  c  d  e  f  g  h\n",
      "Invalid move. Try again.\n",
      "Invalid move. Try again.\n",
      "White resigns. Black wins!\n"
     ]
    }
   ],
   "source": [
    "from chess_game import ChessGame\n",
    "from chess_bot_nn import ChessBot\n",
    "\n",
    "game = ChessGame()\n",
    "bot = ChessBot(game, \"pkl/model.pkl\", \"pkl/scaler.pkl\")\n",
    "game.play(bot)"
   ]
  },
  {
   "cell_type": "code",
   "execution_count": null,
   "metadata": {},
   "outputs": [],
   "source": []
  }
 ],
 "metadata": {
  "kernelspec": {
   "display_name": "chess",
   "language": "python",
   "name": "python3"
  },
  "language_info": {
   "codemirror_mode": {
    "name": "ipython",
    "version": 3
   },
   "file_extension": ".py",
   "mimetype": "text/x-python",
   "name": "python",
   "nbconvert_exporter": "python",
   "pygments_lexer": "ipython3",
   "version": "3.13.1"
  }
 },
 "nbformat": 4,
 "nbformat_minor": 2
}
