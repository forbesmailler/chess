{
 "cells": [
  {
   "cell_type": "code",
   "execution_count": null,
   "id": "8bb321fa",
   "metadata": {},
   "outputs": [
    {
     "name": "stderr",
     "output_type": "stream",
     "text": [
      "Featurizing train: 100%|██████████| 1000000/1000000 [01:22<00:00, 12115.99it/s]\n",
      "Featurizing val: 100%|██████████| 100000/100000 [00:08<00:00, 11699.15it/s]\n"
     ]
    }
   ],
   "source": [
    "from tqdm import tqdm\n",
    "import pandas as pd\n",
    "import chess\n",
    "import numpy as np\n",
    "from sklearn.linear_model import LogisticRegression\n",
    "from sklearn.neural_network import MLPClassifier\n",
    "from sklearn.metrics import accuracy_score, log_loss\n",
    "import os\n",
    "import joblib\n",
    "from lichess import extract_features\n",
    "\n",
    "def process_dataset(df: pd.DataFrame, size: int, desc: str):\n",
    "    df = df.sample(frac=1, random_state=42).reset_index(drop=True).iloc[:size]\n",
    "    X = np.zeros((len(df), 2 * (12 * 64 + 4)), dtype=np.float32)\n",
    "    y = df['value'].values.astype(np.float32)\n",
    "    for i, fen in tqdm(enumerate(df['FEN']), total=len(df), desc=f\"Featurizing {desc}\"):\n",
    "        X[i] = extract_features(fen)\n",
    "    return X, y\n",
    "\n",
    "def load_split_save(train_csv: str,\n",
    "                    val_csv: str,\n",
    "                    train_size: int = 1_000_000,\n",
    "                    val_size: int = 100_000):\n",
    "\n",
    "    if os.path.exists(\"X_train.parquet\") and os.path.exists(\"y_train.parquet\") \\\n",
    "       and os.path.exists(\"X_val.parquet\") and os.path.exists(\"y_val.parquet\"):\n",
    "        print(\"Loading pre-saved Parquet datasets...\")\n",
    "        X_train = pd.read_parquet(\"X_train.parquet\").values\n",
    "        y_train = pd.read_parquet(\"y_train.parquet\")[\"value\"].values\n",
    "        X_val   = pd.read_parquet(\"X_val.parquet\").values\n",
    "        y_val   = pd.read_parquet(\"y_val.parquet\")[\"value\"].values\n",
    "        return X_train, y_train, X_val, y_val\n",
    "\n",
    "    df_train = pd.read_csv(train_csv)\n",
    "    df_val   = pd.read_csv(val_csv)\n",
    "\n",
    "    X_train, y_train = process_dataset(df_train, train_size, 'train')\n",
    "    X_val,   y_val   = process_dataset(df_val,   val_size,   'val')\n",
    "\n",
    "    pd.DataFrame(X_train).to_parquet(\"X_train.parquet\", index=False)\n",
    "    pd.DataFrame({\"value\": y_train}).to_parquet(\"y_train.parquet\", index=False)\n",
    "    pd.DataFrame(X_val).to_parquet(\"X_val.parquet\", index=False)\n",
    "    pd.DataFrame({\"value\": y_val}).to_parquet(\"y_val.parquet\", index=False)\n",
    "\n",
    "    return X_train, y_train, X_val, y_val\n",
    "\n",
    "X_train, y_train, X_val, y_val = load_split_save(\n",
    "    'train.csv', 'val.csv',\n",
    "    train_size=1_000_000, val_size=100_000\n",
    ")"
   ]
  },
  {
   "cell_type": "code",
   "execution_count": null,
   "id": "ce08b066",
   "metadata": {},
   "outputs": [],
   "source": [
    "def train_logistic_regression(X_train: np.ndarray, y_train: np.ndarray) -> LogisticRegression:\n",
    "    print(\"Fitting logistic regression...\")\n",
    "    lr = LogisticRegression(max_iter=1000, verbose=1)\n",
    "    lr.fit(X_train, y_train)\n",
    "    return lr\n",
    "\n",
    "lr = train_logistic_regression(X_train, y_train)\n",
    "\n",
    "y_prob = lr.predict_proba(X_val)\n",
    "ll = log_loss(y_val, y_prob)\n",
    "print(f\"Log loss: {ll:.4f}\")"
   ]
  },
  {
   "cell_type": "code",
   "execution_count": null,
   "id": "33c02e46",
   "metadata": {},
   "outputs": [],
   "source": [
    "joblib.dump(lr, \"chess_lr.joblib\")"
   ]
  }
 ],
 "metadata": {
  "kernelspec": {
   "display_name": "base",
   "language": "python",
   "name": "python3"
  },
  "language_info": {
   "codemirror_mode": {
    "name": "ipython",
    "version": 3
   },
   "file_extension": ".py",
   "mimetype": "text/x-python",
   "name": "python",
   "nbconvert_exporter": "python",
   "pygments_lexer": "ipython3",
   "version": "3.12.7"
  }
 },
 "nbformat": 4,
 "nbformat_minor": 5
}
