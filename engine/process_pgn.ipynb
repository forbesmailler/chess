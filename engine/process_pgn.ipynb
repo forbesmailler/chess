{
 "cells": [
  {
   "cell_type": "code",
   "execution_count": null,
   "id": "405c62dc",
   "metadata": {},
   "outputs": [],
   "source": [
    "# prepare_data.py\n",
    "import chess, chess.pgn\n",
    "import csv\n",
    "import sys\n",
    "from tqdm import tqdm\n",
    "\n",
    "def split_pgn_to_csv(pgn_path, train_csv, val_csv, flush_every=100):\n",
    "    pgn = open(pgn_path, encoding=\"utf-8\")\n",
    "    f_train = open(train_csv, \"w\", newline=\"\", encoding=\"utf-8\")\n",
    "    f_val   = open(val_csv,   \"w\", newline=\"\", encoding=\"utf-8\")\n",
    "    w_train = csv.writer(f_train)\n",
    "    w_val   = csv.writer(f_val)\n",
    "    w_train.writerow([\"FEN\",\"value\"])\n",
    "    w_val.writerow(  [\"FEN\",\"value\"])\n",
    "\n",
    "    train_buf = []\n",
    "    val_buf   = []\n",
    "\n",
    "    game_idx = 0\n",
    "    pbar = tqdm(desc=\"Games\", unit=\"game\")\n",
    "    while True:\n",
    "        game = chess.pgn.read_game(pgn)\n",
    "        if game is None:\n",
    "            break\n",
    "        game_idx += 1\n",
    "        pbar.update(1)\n",
    "\n",
    "        res = game.headers.get(\"Result\",\"\")\n",
    "        if   res == \"1-0\":          gval =  1.0\n",
    "        elif res == \"0-1\":          gval = -1.0\n",
    "        elif res in (\"1/2-1/2\",\"½-½\"): gval =  0.0\n",
    "            continue\n",
    "\n",
    "        board = game.board()\n",
    "        target_buf = val_buf if (game_idx % 10) == 0 else train_buf\n",
    "\n",
    "        for move in game.mainline_moves():\n",
    "            board.push(move)\n",
    "            target_buf.append([board.fen(), gval])\n",
    "\n",
    "        if game_idx % flush_every == 0:\n",
    "            if train_buf:\n",
    "                w_train.writerows(train_buf)\n",
    "                train_buf.clear()\n",
    "            if val_buf:\n",
    "                w_val.writerows(val_buf)\n",
    "                val_buf.clear()\n",
    "            pbar.set_postfix(flushed_games=game_idx)\n",
    "\n",
    "    if train_buf:\n",
    "        w_train.writerows(train_buf)\n",
    "    if val_buf:\n",
    "        w_val.writerows(val_buf)\n",
    "\n",
    "    pgn.close()\n",
    "    f_train.close()\n",
    "    f_val.close()\n",
    "    pbar.close()\n",
    "    print(f\"Done. Processed {game_idx} games → {train_csv} & {val_csv}\")\n"
   ]
  },
  {
   "cell_type": "code",
   "execution_count": 3,
   "id": "080e7c5d",
   "metadata": {},
   "outputs": [
    {
     "name": "stderr",
     "output_type": "stream",
     "text": [
      "Games: 1048440game [58:46, 297.34game/s, flushed_games=1048400]"
     ]
    },
    {
     "name": "stdout",
     "output_type": "stream",
     "text": [
      "Done. Processed 1048440 games → train.csv & val.csv\n"
     ]
    },
    {
     "name": "stderr",
     "output_type": "stream",
     "text": [
      "\n"
     ]
    }
   ],
   "source": [
    "split_pgn_to_csv(\n",
    "    \"C:/Users/forbe/Downloads/lichess_db_standard_rated_2014-07.pgn/lichess_db_standard_rated_2014-07.pgn\",\n",
    "    \"train.csv\",\n",
    "    \"val.csv\"\n",
    ")"
   ]
  },
  {
   "cell_type": "code",
   "execution_count": null,
   "id": "69245538",
   "metadata": {},
   "outputs": [],
   "source": []
  }
 ],
 "metadata": {
  "kernelspec": {
   "display_name": "base",
   "language": "python",
   "name": "python3"
  },
  "language_info": {
   "codemirror_mode": {
    "name": "ipython",
    "version": 3
   },
   "file_extension": ".py",
   "mimetype": "text/x-python",
   "name": "python",
   "nbconvert_exporter": "python",
   "pygments_lexer": "ipython3",
   "version": "3.12.7"
  }
 },
 "nbformat": 4,
 "nbformat_minor": 5
}
