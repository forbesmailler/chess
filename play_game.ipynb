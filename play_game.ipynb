{
 "cells": [
  {
   "cell_type": "code",
   "execution_count": 1,
   "metadata": {},
   "outputs": [
    {
     "name": "stdout",
     "output_type": "stream",
     "text": [
      "Invalid choice. Please type 'white' or 'black'.\n",
      "Invalid choice. Please type 'white' or 'black'.\n",
      "Invalid choice. Please type 'white' or 'black'.\n",
      "Invalid choice. Please type 'white' or 'black'.\n",
      "You are playing as white. The bot plays as black.\n",
      "    a  b  c  d  e  f  g  h\n",
      "  +-------------------------+\n",
      "8 | r  n  b  q  k  b  n  r | 8\n",
      "7 | p  p  p  p  p  p  p  p | 7\n",
      "6 | .  .  .  .  .  .  .  . | 6\n",
      "5 | .  .  .  .  .  .  .  . | 5\n",
      "4 | .  .  .  .  .  .  .  . | 4\n",
      "3 | .  .  .  .  .  .  .  . | 3\n",
      "2 | P  P  P  P  P  P  P  P | 2\n",
      "1 | R  N  B  Q  K  B  N  R | 1\n",
      "  +-------------------------+\n",
      "    a  b  c  d  e  f  g  h\n",
      "    a  b  c  d  e  f  g  h\n",
      "  +-------------------------+\n",
      "8 | r  n  b  q  k  b  n  r | 8\n",
      "7 | p  p  p  p  p  p  p  p | 7\n",
      "6 | .  .  .  .  .  .  .  . | 6\n",
      "5 | .  .  .  .  .  .  .  . | 5\n",
      "4 | .  .  .  .  P  .  .  . | 4\n",
      "3 | .  .  .  .  .  .  .  . | 3\n",
      "2 | P  P  P  P  .  P  P  P | 2\n",
      "1 | R  N  B  Q  K  B  N  R | 1\n",
      "  +-------------------------+\n",
      "    a  b  c  d  e  f  g  h\n"
     ]
    },
    {
     "ename": "AttributeError",
     "evalue": "'ChessGame' object has no attribute 'evaluate_position'",
     "output_type": "error",
     "traceback": [
      "\u001b[1;31m---------------------------------------------------------------------------\u001b[0m",
      "\u001b[1;31mAttributeError\u001b[0m                            Traceback (most recent call last)",
      "Cell \u001b[1;32mIn[1], line 7\u001b[0m\n\u001b[0;32m      5\u001b[0m game \u001b[38;5;241m=\u001b[39m ChessGame()\n\u001b[0;32m      6\u001b[0m bot \u001b[38;5;241m=\u001b[39m ChessBot(game)\n\u001b[1;32m----> 7\u001b[0m \u001b[43mgame\u001b[49m\u001b[38;5;241;43m.\u001b[39;49m\u001b[43mplay\u001b[49m\u001b[43m(\u001b[49m\u001b[43mbot\u001b[49m\u001b[43m)\u001b[49m\n",
      "File \u001b[1;32mc:\\Users\\forbe\\Documents\\repos\\chess\\chess_game.py:602\u001b[0m, in \u001b[0;36mChessGame.play\u001b[1;34m(self, bot)\u001b[0m\n\u001b[0;32m    599\u001b[0m         \u001b[38;5;28;01mcontinue\u001b[39;00m\n\u001b[0;32m    600\u001b[0m \u001b[38;5;28;01melse\u001b[39;00m:\n\u001b[0;32m    601\u001b[0m     \u001b[38;5;66;03m# Let the bot choose and play its move\u001b[39;00m\n\u001b[1;32m--> 602\u001b[0m     \u001b[43mbot\u001b[49m\u001b[38;5;241;43m.\u001b[39;49m\u001b[43mchoose_move\u001b[49m\u001b[43m(\u001b[49m\u001b[43m)\u001b[49m\n\u001b[0;32m    604\u001b[0m \u001b[38;5;66;03m# Switch turns\u001b[39;00m\n\u001b[0;32m    605\u001b[0m \u001b[38;5;28mself\u001b[39m\u001b[38;5;241m.\u001b[39mturn \u001b[38;5;241m=\u001b[39m \u001b[38;5;124m'\u001b[39m\u001b[38;5;124mblack\u001b[39m\u001b[38;5;124m'\u001b[39m \u001b[38;5;28;01mif\u001b[39;00m \u001b[38;5;28mself\u001b[39m\u001b[38;5;241m.\u001b[39mturn \u001b[38;5;241m==\u001b[39m \u001b[38;5;124m'\u001b[39m\u001b[38;5;124mwhite\u001b[39m\u001b[38;5;124m'\u001b[39m \u001b[38;5;28;01melse\u001b[39;00m \u001b[38;5;124m'\u001b[39m\u001b[38;5;124mwhite\u001b[39m\u001b[38;5;124m'\u001b[39m\n",
      "File \u001b[1;32mc:\\Users\\forbe\\Documents\\repos\\chess\\chess_bot.py:42\u001b[0m, in \u001b[0;36mChessBot.choose_move\u001b[1;34m(self)\u001b[0m\n\u001b[0;32m     38\u001b[0m         final_score \u001b[38;5;241m=\u001b[39m \u001b[38;5;28mself\u001b[39m\u001b[38;5;241m.\u001b[39mhandle_bot_promotions(\n\u001b[0;32m     39\u001b[0m             start_row, start_col, end_row, end_col, piece\n\u001b[0;32m     40\u001b[0m         )\n\u001b[0;32m     41\u001b[0m     \u001b[38;5;28;01melse\u001b[39;00m:\n\u001b[1;32m---> 42\u001b[0m         final_score \u001b[38;5;241m=\u001b[39m \u001b[38;5;28;43mself\u001b[39;49m\u001b[38;5;241;43m.\u001b[39;49m\u001b[43msimulate_two_ply\u001b[49m\u001b[43m(\u001b[49m\u001b[43mmove\u001b[49m\u001b[43m)\u001b[49m\n\u001b[0;32m     44\u001b[0m \u001b[38;5;66;03m# Track best or worst move depending on side\u001b[39;00m\n\u001b[0;32m     45\u001b[0m \u001b[38;5;28;01mif\u001b[39;00m \u001b[38;5;28mself\u001b[39m\u001b[38;5;241m.\u001b[39mside \u001b[38;5;241m==\u001b[39m \u001b[38;5;124m'\u001b[39m\u001b[38;5;124mwhite\u001b[39m\u001b[38;5;124m'\u001b[39m \u001b[38;5;129;01mand\u001b[39;00m final_score \u001b[38;5;241m>\u001b[39m best_score:\n",
      "File \u001b[1;32mc:\\Users\\forbe\\Documents\\repos\\chess\\chess_bot.py:329\u001b[0m, in \u001b[0;36mChessBot.simulate_two_ply\u001b[1;34m(self, move)\u001b[0m\n\u001b[0;32m    326\u001b[0m temp_halfmove \u001b[38;5;241m=\u001b[39m \u001b[38;5;28mself\u001b[39m\u001b[38;5;241m.\u001b[39mgame\u001b[38;5;241m.\u001b[39mhalfmove_clock\n\u001b[0;32m    328\u001b[0m \u001b[38;5;28mself\u001b[39m\u001b[38;5;241m.\u001b[39mgame\u001b[38;5;241m.\u001b[39mmake_move(op_move)\n\u001b[1;32m--> 329\u001b[0m current_eval \u001b[38;5;241m=\u001b[39m \u001b[38;5;28;43mself\u001b[39;49m\u001b[38;5;241;43m.\u001b[39;49m\u001b[43mgame\u001b[49m\u001b[38;5;241;43m.\u001b[39;49m\u001b[43mevaluate_position\u001b[49m()\n\u001b[0;32m    331\u001b[0m \u001b[38;5;66;03m# Revert\u001b[39;00m\n\u001b[0;32m    332\u001b[0m \u001b[38;5;28mself\u001b[39m\u001b[38;5;241m.\u001b[39mgame\u001b[38;5;241m.\u001b[39mboard \u001b[38;5;241m=\u001b[39m temp_board\n",
      "\u001b[1;31mAttributeError\u001b[0m: 'ChessGame' object has no attribute 'evaluate_position'"
     ]
    }
   ],
   "source": [
    "from chess_game import ChessGame\n",
    "from chess_bot import ChessBot\n",
    "\n",
    "game = ChessGame()\n",
    "bot = ChessBot(game)\n",
    "game.play(bot)"
   ]
  },
  {
   "cell_type": "code",
   "execution_count": null,
   "metadata": {},
   "outputs": [],
   "source": []
  }
 ],
 "metadata": {
  "kernelspec": {
   "display_name": "base",
   "language": "python",
   "name": "python3"
  },
  "language_info": {
   "codemirror_mode": {
    "name": "ipython",
    "version": 3
   },
   "file_extension": ".py",
   "mimetype": "text/x-python",
   "name": "python",
   "nbconvert_exporter": "python",
   "pygments_lexer": "ipython3",
   "version": "3.12.5"
  }
 },
 "nbformat": 4,
 "nbformat_minor": 2
}
