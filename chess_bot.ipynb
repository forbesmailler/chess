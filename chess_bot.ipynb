{
 "cells": [
  {
   "cell_type": "code",
   "execution_count": 5,
   "metadata": {},
   "outputs": [],
   "source": [
    "from chess_bot import ChessBot"
   ]
  },
  {
   "cell_type": "code",
   "execution_count": 6,
   "metadata": {},
   "outputs": [],
   "source": [
    "bot = ChessBot()"
   ]
  },
  {
   "cell_type": "code",
   "execution_count": 7,
   "metadata": {},
   "outputs": [
    {
     "name": "stdout",
     "output_type": "stream",
     "text": [
      "You are playing as black. The bot plays as white.\n",
      "    a  b  c  d  e  f  g  h\n",
      "  +-------------------------+\n",
      "8 | r  n  b  q  k  b  n  r | 8\n",
      "7 | p  p  p  p  p  p  p  p | 7\n",
      "6 | .  .  .  .  .  .  .  . | 6\n",
      "5 | .  .  .  .  .  .  .  . | 5\n",
      "4 | .  .  .  .  .  .  .  . | 4\n",
      "3 | .  .  .  .  .  .  .  . | 3\n",
      "2 | P  P  P  P  P  P  P  P | 2\n",
      "1 | R  N  B  Q  K  B  N  R | 1\n",
      "  +-------------------------+\n",
      "    a  b  c  d  e  f  g  h\n",
      "Bot plays: a2 a3\n",
      "    a  b  c  d  e  f  g  h\n",
      "  +-------------------------+\n",
      "8 | r  n  b  q  k  b  n  r | 8\n",
      "7 | p  p  p  p  p  p  p  p | 7\n",
      "6 | .  .  .  .  .  .  .  . | 6\n",
      "5 | .  .  .  .  .  .  .  . | 5\n",
      "4 | .  .  .  .  .  .  .  . | 4\n",
      "3 | P  .  .  .  .  .  .  . | 3\n",
      "2 | .  P  P  P  P  P  P  P | 2\n",
      "1 | R  N  B  Q  K  B  N  R | 1\n",
      "  +-------------------------+\n",
      "    a  b  c  d  e  f  g  h\n",
      "Invalid move. Try again.\n",
      "    a  b  c  d  e  f  g  h\n",
      "  +-------------------------+\n",
      "8 | r  n  b  q  k  b  n  r | 8\n",
      "7 | p  p  p  p  .  p  p  p | 7\n",
      "6 | .  .  .  .  .  .  .  . | 6\n",
      "5 | .  .  .  .  p  .  .  . | 5\n",
      "4 | .  .  .  .  .  .  .  . | 4\n",
      "3 | P  .  .  .  .  .  .  . | 3\n",
      "2 | .  P  P  P  P  P  P  P | 2\n",
      "1 | R  N  B  Q  K  B  N  R | 1\n",
      "  +-------------------------+\n",
      "    a  b  c  d  e  f  g  h\n",
      "Bot plays: a3 a4\n",
      "    a  b  c  d  e  f  g  h\n",
      "  +-------------------------+\n",
      "8 | r  n  b  q  k  b  n  r | 8\n",
      "7 | p  p  p  p  .  p  p  p | 7\n",
      "6 | .  .  .  .  .  .  .  . | 6\n",
      "5 | .  .  .  .  p  .  .  . | 5\n",
      "4 | P  .  .  .  .  .  .  . | 4\n",
      "3 | .  .  .  .  .  .  .  . | 3\n",
      "2 | .  P  P  P  P  P  P  P | 2\n",
      "1 | R  N  B  Q  K  B  N  R | 1\n",
      "  +-------------------------+\n",
      "    a  b  c  d  e  f  g  h\n",
      "Invalid move. Try again.\n",
      "    a  b  c  d  e  f  g  h\n",
      "  +-------------------------+\n",
      "8 | r  n  b  q  k  .  n  r | 8\n",
      "7 | p  p  p  p  .  p  p  p | 7\n",
      "6 | .  .  .  .  .  .  .  . | 6\n",
      "5 | .  .  b  .  p  .  .  . | 5\n",
      "4 | P  .  .  .  .  .  .  . | 4\n",
      "3 | .  .  .  .  .  .  .  . | 3\n",
      "2 | .  P  P  P  P  P  P  P | 2\n",
      "1 | R  N  B  Q  K  B  N  R | 1\n",
      "  +-------------------------+\n",
      "    a  b  c  d  e  f  g  h\n",
      "Bot plays: a4 a5\n",
      "    a  b  c  d  e  f  g  h\n",
      "  +-------------------------+\n",
      "8 | r  n  b  q  k  .  n  r | 8\n",
      "7 | p  p  p  p  .  p  p  p | 7\n",
      "6 | .  .  .  .  .  .  .  . | 6\n",
      "5 | P  .  b  .  p  .  .  . | 5\n",
      "4 | .  .  .  .  .  .  .  . | 4\n",
      "3 | .  .  .  .  .  .  .  . | 3\n",
      "2 | .  P  P  P  P  P  P  P | 2\n",
      "1 | R  N  B  Q  K  B  N  R | 1\n",
      "  +-------------------------+\n",
      "    a  b  c  d  e  f  g  h\n",
      "Invalid move. Try again.\n",
      "    a  b  c  d  e  f  g  h\n",
      "  +-------------------------+\n",
      "8 | r  n  b  .  k  .  n  r | 8\n",
      "7 | p  p  p  p  .  p  p  p | 7\n",
      "6 | .  .  .  .  .  .  .  . | 6\n",
      "5 | P  .  b  .  p  .  .  . | 5\n",
      "4 | .  .  .  .  .  .  .  q | 4\n",
      "3 | .  .  .  .  .  .  .  . | 3\n",
      "2 | .  P  P  P  P  P  P  P | 2\n",
      "1 | R  N  B  Q  K  B  N  R | 1\n",
      "  +-------------------------+\n",
      "    a  b  c  d  e  f  g  h\n",
      "Bot plays: a5 a6\n",
      "    a  b  c  d  e  f  g  h\n",
      "  +-------------------------+\n",
      "8 | r  n  b  .  k  .  n  r | 8\n",
      "7 | p  p  p  p  .  p  p  p | 7\n",
      "6 | P  .  .  .  .  .  .  . | 6\n",
      "5 | .  .  b  .  p  .  .  . | 5\n",
      "4 | .  .  .  .  .  .  .  q | 4\n",
      "3 | .  .  .  .  .  .  .  . | 3\n",
      "2 | .  P  P  P  P  P  P  P | 2\n",
      "1 | R  N  B  Q  K  B  N  R | 1\n",
      "  +-------------------------+\n",
      "    a  b  c  d  e  f  g  h\n",
      "    a  b  c  d  e  f  g  h\n",
      "  +-------------------------+\n",
      "8 | r  n  b  .  k  .  n  r | 8\n",
      "7 | p  p  p  p  .  p  p  p | 7\n",
      "6 | P  .  .  .  .  .  .  . | 6\n",
      "5 | .  .  b  .  p  .  .  . | 5\n",
      "4 | .  .  .  .  .  .  .  . | 4\n",
      "3 | .  .  .  .  .  .  .  . | 3\n",
      "2 | .  P  P  P  P  q  P  P | 2\n",
      "1 | R  N  B  Q  K  B  N  R | 1\n",
      "  +-------------------------+\n",
      "    a  b  c  d  e  f  g  h\n",
      "Checkmate! Black wins.\n"
     ]
    }
   ],
   "source": [
    "bot.play()"
   ]
  },
  {
   "cell_type": "code",
   "execution_count": 8,
   "metadata": {},
   "outputs": [
    {
     "data": {
      "text/plain": [
       "[]"
      ]
     },
     "execution_count": 8,
     "metadata": {},
     "output_type": "execute_result"
    }
   ],
   "source": [
    "bot.generate_all_moves(bot.turn)"
   ]
  },
  {
   "cell_type": "code",
   "execution_count": null,
   "metadata": {},
   "outputs": [],
   "source": []
  }
 ],
 "metadata": {
  "kernelspec": {
   "display_name": "Python 3",
   "language": "python",
   "name": "python3"
  },
  "language_info": {
   "codemirror_mode": {
    "name": "ipython",
    "version": 3
   },
   "file_extension": ".py",
   "mimetype": "text/x-python",
   "name": "python",
   "nbconvert_exporter": "python",
   "pygments_lexer": "ipython3",
   "version": "3.12.7"
  }
 },
 "nbformat": 4,
 "nbformat_minor": 2
}
