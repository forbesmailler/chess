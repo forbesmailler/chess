{
 "cells": [
  {
   "cell_type": "code",
   "execution_count": 33,
   "metadata": {},
   "outputs": [],
   "source": [
    "from chess_bot import ChessBot"
   ]
  },
  {
   "cell_type": "code",
   "execution_count": 34,
   "metadata": {},
   "outputs": [],
   "source": [
    "bot = ChessBot()"
   ]
  },
  {
   "cell_type": "code",
   "execution_count": 35,
   "metadata": {},
   "outputs": [
    {
     "name": "stdout",
     "output_type": "stream",
     "text": [
      "    a  b  c  d  e  f  g  h\n",
      "  +-------------------------+\n",
      "8 | r  n  b  q  k  b  n  r | 8\n",
      "7 | p  p  p  p  p  p  p  p | 7\n",
      "6 | .  .  .  .  .  .  .  . | 6\n",
      "5 | .  .  .  .  .  .  .  . | 5\n",
      "4 | .  .  .  .  .  .  .  . | 4\n",
      "3 | .  .  .  .  .  .  .  . | 3\n",
      "2 | P  P  P  P  P  P  P  P | 2\n",
      "1 | R  N  B  Q  K  B  N  R | 1\n",
      "  +-------------------------+\n",
      "    a  b  c  d  e  f  g  h\n",
      "    a  b  c  d  e  f  g  h\n",
      "  +-------------------------+\n",
      "8 | r  n  b  q  k  b  n  r | 8\n",
      "7 | p  p  p  p  p  p  p  p | 7\n",
      "6 | .  .  .  .  .  .  .  . | 6\n",
      "5 | .  .  .  .  .  .  .  . | 5\n",
      "4 | .  .  .  .  P  .  .  . | 4\n",
      "3 | .  .  .  .  .  .  .  . | 3\n",
      "2 | P  P  P  P  .  P  P  P | 2\n",
      "1 | R  N  B  Q  K  B  N  R | 1\n",
      "  +-------------------------+\n",
      "    a  b  c  d  e  f  g  h\n",
      "Bot is thinking...\n",
      "Bot plays: a7 a6\n",
      "    a  b  c  d  e  f  g  h\n",
      "  +-------------------------+\n",
      "8 | r  n  b  q  k  b  n  r | 8\n",
      "7 | .  p  p  p  p  p  p  p | 7\n",
      "6 | p  .  .  .  .  .  .  . | 6\n",
      "5 | .  .  .  .  .  .  .  . | 5\n",
      "4 | .  .  .  .  P  .  .  . | 4\n",
      "3 | .  .  .  .  .  .  .  . | 3\n",
      "2 | P  P  P  P  .  P  P  P | 2\n",
      "1 | R  N  B  Q  K  B  N  R | 1\n",
      "  +-------------------------+\n",
      "    a  b  c  d  e  f  g  h\n",
      "White resigns. Black wins!\n"
     ]
    }
   ],
   "source": [
    "bot.play()"
   ]
  },
  {
   "cell_type": "markdown",
   "metadata": {},
   "source": []
  }
 ],
 "metadata": {
  "kernelspec": {
   "display_name": "Python 3",
   "language": "python",
   "name": "python3"
  },
  "language_info": {
   "codemirror_mode": {
    "name": "ipython",
    "version": 3
   },
   "file_extension": ".py",
   "mimetype": "text/x-python",
   "name": "python",
   "nbconvert_exporter": "python",
   "pygments_lexer": "ipython3",
   "version": "3.12.7"
  }
 },
 "nbformat": 4,
 "nbformat_minor": 2
}
